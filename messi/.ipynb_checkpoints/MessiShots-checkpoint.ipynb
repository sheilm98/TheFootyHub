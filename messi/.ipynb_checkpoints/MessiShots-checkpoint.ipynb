{
 "cells": [
  {
   "cell_type": "code",
   "execution_count": 1,
   "id": "9ad9e84c",
   "metadata": {},
   "outputs": [],
   "source": [
    "import pandas as pd\n",
    "import numpy as np\n",
    "import matplotlib.pyplot as plt\n",
    "import seaborn as sns\n",
    "import requests \n",
    "from bs4 import BeautifulSoup\n",
    "import json\n",
    "# from pprint import pprint\n",
    "import matplotlib.image as mpimg\n",
    "import matplotlib.patches as patches\n",
    "# from PIL import Image\n",
    "# from io import BytesIO\n",
    "# from highlight_text import htext\n",
    "import matplotlib as mpl\n",
    "from matplotlib.gridspec import GridSpec\n",
    "from mplsoccer.pitch import VerticalPitch\n",
    "from mplsoccer.pitch import Pitch\n",
    "\n",
    "\n",
    "pd.set_option(\"display.max_rows\", None, \"display.max_columns\", None)\n",
    "background = \"#463F3A\"\n",
    "text_color = 'w'\n",
    "primary = '#C8102E'\n",
    "secondary = 'lightblue'\n",
    "mpl.rcParams['xtick.color'] = text_color\n",
    "mpl.rcParams['ytick.color'] = text_color"
   ]
  },
  {
   "cell_type": "code",
   "execution_count": 2,
   "id": "db594ba6",
   "metadata": {},
   "outputs": [],
   "source": [
    "df = pd.read_csv('messiShotsPSG.csv')"
   ]
  },
  {
   "cell_type": "code",
   "execution_count": 3,
   "id": "963b3384",
   "metadata": {},
   "outputs": [
    {
     "data": {
      "text/html": [
       "<div>\n",
       "<style scoped>\n",
       "    .dataframe tbody tr th:only-of-type {\n",
       "        vertical-align: middle;\n",
       "    }\n",
       "\n",
       "    .dataframe tbody tr th {\n",
       "        vertical-align: top;\n",
       "    }\n",
       "\n",
       "    .dataframe thead th {\n",
       "        text-align: right;\n",
       "    }\n",
       "</style>\n",
       "<table border=\"1\" class=\"dataframe\">\n",
       "  <thead>\n",
       "    <tr style=\"text-align: right;\">\n",
       "      <th></th>\n",
       "      <th>Unnamed: 0</th>\n",
       "      <th>x</th>\n",
       "      <th>y</th>\n",
       "      <th>xG</th>\n",
       "      <th>result</th>\n",
       "      <th>shotType</th>\n",
       "    </tr>\n",
       "  </thead>\n",
       "  <tbody>\n",
       "    <tr>\n",
       "      <th>0</th>\n",
       "      <td>0</td>\n",
       "      <td>0.796</td>\n",
       "      <td>0.614</td>\n",
       "      <td>0.028824</td>\n",
       "      <td>SavedShot</td>\n",
       "      <td>LeftFoot</td>\n",
       "    </tr>\n",
       "    <tr>\n",
       "      <th>1</th>\n",
       "      <td>1</td>\n",
       "      <td>0.924</td>\n",
       "      <td>0.602</td>\n",
       "      <td>0.401033</td>\n",
       "      <td>SavedShot</td>\n",
       "      <td>LeftFoot</td>\n",
       "    </tr>\n",
       "    <tr>\n",
       "      <th>2</th>\n",
       "      <td>2</td>\n",
       "      <td>0.738</td>\n",
       "      <td>0.522</td>\n",
       "      <td>0.058890</td>\n",
       "      <td>ShotOnPost</td>\n",
       "      <td>LeftFoot</td>\n",
       "    </tr>\n",
       "    <tr>\n",
       "      <th>3</th>\n",
       "      <td>3</td>\n",
       "      <td>0.746</td>\n",
       "      <td>0.624</td>\n",
       "      <td>0.016987</td>\n",
       "      <td>MissedShots</td>\n",
       "      <td>LeftFoot</td>\n",
       "    </tr>\n",
       "    <tr>\n",
       "      <th>4</th>\n",
       "      <td>4</td>\n",
       "      <td>0.852</td>\n",
       "      <td>0.467</td>\n",
       "      <td>0.093094</td>\n",
       "      <td>BlockedShot</td>\n",
       "      <td>RightFoot</td>\n",
       "    </tr>\n",
       "  </tbody>\n",
       "</table>\n",
       "</div>"
      ],
      "text/plain": [
       "   Unnamed: 0      x      y        xG       result   shotType\n",
       "0           0  0.796  0.614  0.028824    SavedShot   LeftFoot\n",
       "1           1  0.924  0.602  0.401033    SavedShot   LeftFoot\n",
       "2           2  0.738  0.522  0.058890   ShotOnPost   LeftFoot\n",
       "3           3  0.746  0.624  0.016987  MissedShots   LeftFoot\n",
       "4           4  0.852  0.467  0.093094  BlockedShot  RightFoot"
      ]
     },
     "execution_count": 3,
     "metadata": {},
     "output_type": "execute_result"
    }
   ],
   "source": [
    "# df = df.iloc[: , 1:]\n",
    "df.head()"
   ]
  },
  {
   "cell_type": "code",
   "execution_count": 4,
   "id": "067f691b",
   "metadata": {},
   "outputs": [
    {
     "data": {
      "text/plain": [
       "array(['SavedShot', 'ShotOnPost', 'MissedShots', 'BlockedShot', 'Goal'],\n",
       "      dtype=object)"
      ]
     },
     "execution_count": 4,
     "metadata": {},
     "output_type": "execute_result"
    }
   ],
   "source": [
    "df.result.unique()"
   ]
  },
  {
   "cell_type": "code",
   "execution_count": 5,
   "id": "035408fc",
   "metadata": {},
   "outputs": [],
   "source": [
    "df['x'] = df['x']*120\n",
    "df['y'] = df['y']*90"
   ]
  },
  {
   "cell_type": "code",
   "execution_count": 6,
   "id": "ca4e63eb",
   "metadata": {},
   "outputs": [
    {
     "data": {
      "image/png": "[encoded data removed]",
      "text/plain": [
       "<Figure size 936x576 with 1 Axes>"
      ]
     },
     "metadata": {},
     "output_type": "display_data"
    }
   ],
   "source": [
    "fig, ax = plt.subplots(figsize=(13,8))\n",
    "fig.set_facecolor('#22312b')\n",
    "ax.patch.set_facecolor('#22312b')\n",
    "\n",
    "pitch = Pitch(pitch_type='statsbomb',half=True,\n",
    "              pitch_color='#22312b', line_color='#c7d5cc', figsize=(16, 9),\n",
    "              constrained_layout=False, tight_layout=True)\n",
    "\n",
    "\n",
    "\n",
    "pitch.draw(ax=ax)\n",
    "plt.gca().invert_yaxis()\n",
    "# plt.gca().invert_xaxis()\n",
    "\n",
    "# plt.ylim(0,60)\n",
    "# plt.scatter(50,50, color = 'Yellow', s=800)\n",
    "\n",
    "for x in range(len(df['x'])):\n",
    "    if df['result'][x] == 'Goal': \n",
    "        plt.scatter(df['x'][x],df['y'][x], color = '#74c69d',s=df['xG'][x]*500,edgecolor='white',linewidth=0,alpha=.9)       \n",
    "    elif (df['result'][x] == 'ShotOnPost'): \n",
    "        plt.scatter(df['x'][x],df['y'][x], color = '#ffeb99',s=df['xG'][x]*500)\n",
    "    elif (df['result'][x] == 'BlockedShot'):\n",
    "        plt.scatter(df['x'][x],df['y'][x], color = '#ff80bf',s=df['xG'][x]*500)\n",
    "    elif (df['result'][x] == 'SavedShot'):\n",
    "        plt.scatter(df['x'][x],df['y'][x], color = '#000080',s=df['xG'][x]*500)\n",
    "    else:\n",
    "        plt.scatter(df['x'][x],df['y'][x], color = '#ff4d4d',s=df['xG'][x]*500)\n"
   ]
  },
  {
   "cell_type": "code",
   "execution_count": 7,
   "id": "d67b681c",
   "metadata": {},
   "outputs": [
    {
     "data": {
      "text/html": [
       "<div>\n",
       "<style scoped>\n",
       "    .dataframe tbody tr th:only-of-type {\n",
       "        vertical-align: middle;\n",
       "    }\n",
       "\n",
       "    .dataframe tbody tr th {\n",
       "        vertical-align: top;\n",
       "    }\n",
       "\n",
       "    .dataframe thead th {\n",
       "        text-align: right;\n",
       "    }\n",
       "</style>\n",
       "<table border=\"1\" class=\"dataframe\">\n",
       "  <thead>\n",
       "    <tr style=\"text-align: right;\">\n",
       "      <th></th>\n",
       "      <th>Unnamed: 0</th>\n",
       "      <th>x</th>\n",
       "      <th>y</th>\n",
       "      <th>xG</th>\n",
       "      <th>result</th>\n",
       "      <th>shotType</th>\n",
       "    </tr>\n",
       "  </thead>\n",
       "  <tbody>\n",
       "    <tr>\n",
       "      <th>19</th>\n",
       "      <td>19</td>\n",
       "      <td>95.039996</td>\n",
       "      <td>36.630001</td>\n",
       "      <td>0.063291</td>\n",
       "      <td>Goal</td>\n",
       "      <td>LeftFoot</td>\n",
       "    </tr>\n",
       "  </tbody>\n",
       "</table>\n",
       "</div>"
      ],
      "text/plain": [
       "    Unnamed: 0          x          y        xG result  shotType\n",
       "19          19  95.039996  36.630001  0.063291   Goal  LeftFoot"
      ]
     },
     "execution_count": 7,
     "metadata": {},
     "output_type": "execute_result"
    }
   ],
   "source": [
    "goal = df['result'] == 'Goal'\n",
    "goalf =  df.loc[goal]\n",
    "goalf\n"
   ]
  },
  {
   "cell_type": "code",
   "execution_count": 23,
   "id": "ceaabaaa",
   "metadata": {},
   "outputs": [],
   "source": [
    "saved = df['result'] == 'SavedShot'\n",
    "\n",
    "block = df['result'] == 'BlockedShot'\n",
    "\n",
    "missed = df['result'] == 'MissedShots'\n",
    "\n",
    "shotpost = df['result'] == 'ShotOnPost'\n"
   ]
  },
  {
   "cell_type": "code",
   "execution_count": 97,
   "id": "31bba279",
   "metadata": {},
   "outputs": [
    {
     "ename": "AttributeError",
     "evalue": "'AxesSubplot' object has no attribute 'x_axis'",
     "output_type": "error",
     "traceback": [
      "\u001b[1;31m---------------------------------------------------------------------------\u001b[0m",
      "\u001b[1;31mAttributeError\u001b[0m                            Traceback (most recent call last)",
      "\u001b[1;32m~\\AppData\\Local\\Temp/ipykernel_26004/1189441589.py\u001b[0m in \u001b[0;36m<module>\u001b[1;34m\u001b[0m\n\u001b[0;32m     22\u001b[0m \u001b[0mdrwng\u001b[0m\u001b[1;33m.\u001b[0m\u001b[0mtick_params\u001b[0m\u001b[1;33m(\u001b[0m\u001b[0maxis\u001b[0m\u001b[1;33m=\u001b[0m\u001b[1;34m'y'\u001b[0m\u001b[1;33m,\u001b[0m \u001b[0mcolors\u001b[0m\u001b[1;33m=\u001b[0m\u001b[1;34m'black'\u001b[0m\u001b[1;33m)\u001b[0m\u001b[1;33m\u001b[0m\u001b[1;33m\u001b[0m\u001b[0m\n\u001b[0;32m     23\u001b[0m \u001b[0mdrwng\u001b[0m\u001b[1;33m.\u001b[0m\u001b[0mtick_params\u001b[0m\u001b[1;33m(\u001b[0m\u001b[0maxis\u001b[0m\u001b[1;33m=\u001b[0m\u001b[1;34m'y'\u001b[0m\u001b[1;33m,\u001b[0m \u001b[0mcolors\u001b[0m\u001b[1;33m=\u001b[0m\u001b[1;34m'black'\u001b[0m\u001b[1;33m)\u001b[0m\u001b[1;33m\u001b[0m\u001b[1;33m\u001b[0m\u001b[0m\n\u001b[1;32m---> 24\u001b[1;33m \u001b[0mdrwng\u001b[0m\u001b[1;33m.\u001b[0m\u001b[0mx_axis\u001b[0m\u001b[1;33m.\u001b[0m\u001b[0mset_visible\u001b[0m\u001b[1;33m(\u001b[0m\u001b[1;32mFalse\u001b[0m\u001b[1;33m)\u001b[0m\u001b[1;33m\u001b[0m\u001b[1;33m\u001b[0m\u001b[0m\n\u001b[0m\u001b[0;32m     25\u001b[0m \u001b[1;31m# drwng.tick_params(axis='x', colors='white')\u001b[0m\u001b[1;33m\u001b[0m\u001b[1;33m\u001b[0m\u001b[1;33m\u001b[0m\u001b[0m\n\u001b[0;32m     26\u001b[0m \u001b[1;31m# drwng.set_index(shottyypes)\u001b[0m\u001b[1;33m\u001b[0m\u001b[1;33m\u001b[0m\u001b[1;33m\u001b[0m\u001b[0m\n",
      "\u001b[1;31mAttributeError\u001b[0m: 'AxesSubplot' object has no attribute 'x_axis'"
     ]
    },
    {
     "data": {
      "image/png": "[encoded data removed]",
      "text/plain": [
       "<Figure size 432x288 with 1 Axes>"
      ]
     },
     "metadata": {},
     "output_type": "display_data"
    }
   ],
   "source": [
    "savecnt = saved.value_counts()\n",
    "blckcnt = block.value_counts()\n",
    "msdcnt = missed.value_counts()\n",
    "spcnt = shotpost.value_counts()\n",
    "\n",
    "tsavecnt = savecnt[True]\n",
    "tblckcnt = blckcnt[True]\n",
    "tmsdcnt = msdcnt[True]\n",
    "tspcnt = spcnt[True]\n",
    "\n",
    "\n",
    "counts = [[tsavecnt,tblckcnt,tmsdcnt,tspcnt,1]]\n",
    "shottypes=['saved','blocked','Missed', 'on post','goal']\n",
    "drw = pd.DataFrame(counts,columns=['saved','blocked','Missed', 'on post','goal'])\n",
    "drwng = drw.plot.bar(color=['Blue', 'Pink', 'Red', 'Yellow', 'green'],legend=True)\n",
    "# plt.figure(facecolor='Black')\n",
    "# plt.plot(counts)\n",
    "plt.title(\"Shot distribution\")\n",
    "plt.xlabel('shot types')\n",
    "plt.ylabel(\"Number of shots\")\n",
    "drwng.set_facecolor('black')\n",
    "drwng.tick_params(axis='y', colors='black')\n",
    "# drwng.tick_params(axis='y', colors='black')\n",
    "# drwng.x_axis.set_visible(False)\n",
    "# drwng.tick_params(axis='x', colors='white')\n",
    "# drwng.set_index(shottyypes)\n",
    "# drwng.set_xlabel(shottypes)\n",
    "# img = plt.figure (figsize=(20,10))\n",
    "plt.savefig('messiShotDist.png')\n",
    "# plt.show()"
   ]
  },
  {
   "cell_type": "code",
   "execution_count": null,
   "id": "4228f2d2",
   "metadata": {},
   "outputs": [],
   "source": []
  }
 ],
 "metadata": {
  "kernelspec": {
   "display_name": "Python 3",
   "language": "python",
   "name": "python3"
  },
  "language_info": {
   "codemirror_mode": {
    "name": "ipython",
    "version": 3
   },
   "file_extension": ".py",
   "mimetype": "text/x-python",
   "name": "python",
   "nbconvert_exporter": "python",
   "pygments_lexer": "ipython3",
   "version": "3.7.11"
  }
 },
 "nbformat": 4,
 "nbformat_minor": 5
}
