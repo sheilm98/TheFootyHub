{
 "cells": [
  {
   "cell_type": "code",
   "execution_count": 1,
   "id": "d081389c",
   "metadata": {},
   "outputs": [],
   "source": [
    "using DataFrames\n",
    "using CSV\n",
    "using Plots"
   ]
  },
  {
   "cell_type": "code",
   "execution_count": 2,
   "id": "419ba876",
   "metadata": {},
   "outputs": [
    {
     "data": {
      "text/plain": [
       "22-element Array{String,1}:\n",
       " \"Column1\"\n",
       " \"team_name\"\n",
       " \"league\"\n",
       " \"country\"\n",
       " \"season\"\n",
       " \"transfer_type\"\n",
       " \"player_name\"\n",
       " \"player_url\"\n",
       " \"player_position\"\n",
       " \"player_age\"\n",
       " \"player_nationality\"\n",
       " \"club_2\"\n",
       " \"league_2\"\n",
       " \"country_2\"\n",
       " \"transfer_fee\"\n",
       " \"is_loan\"\n",
       " \"transfer_notes\"\n",
       " \"window\"\n",
       " \"in_squad\"\n",
       " \"appearances\"\n",
       " \"goals\"\n",
       " \"minutes_played\""
      ]
     },
     "execution_count": 2,
     "metadata": {},
     "output_type": "execute_result"
    }
   ],
   "source": [
    "df = CSV.read(\"premTransfersWinter21.csv\", DataFrame);\n",
    "names(df)\n"
   ]
  },
  {
   "cell_type": "code",
   "execution_count": 3,
   "id": "dea0281b",
   "metadata": {},
   "outputs": [
    {
     "name": "stderr",
     "output_type": "stream",
     "text": [
      "WARNING: both Gadfly and Plots export \"plot\"; uses of it in module Main must be qualified\n"
     ]
    },
    {
     "ename": "LoadError",
     "evalue": "\u001b[91mUndefVarError: plot not defined\u001b[39m",
     "output_type": "error",
     "traceback": [
      "\u001b[91mUndefVarError: plot not defined\u001b[39m",
      "",
      "Stacktrace:",
      " [1] top-level scope at In[3]:7",
      " [2] include_string(::Function, ::Module, ::String, ::String) at .\\loading.jl:1091"
     ]
    }
   ],
   "source": [
    "import Cairo\n",
    "using Plots\n",
    "using Gadfly\n",
    "# D = dataset(\"datasets\",\"HairEyeColor\")\n",
    "palette = [\"brown\",\"blue\",\"tan\",\"green\"]\n",
    "\n",
    "p = plot(df, x=:transfer_type, y=:transfer_fee, color=:player_name, xgroup=:team_name,\n",
    "    Geom.subplot_grid(Geom.bar(position=:stack)),\n",
    "    Scale.color_discrete_manual(palette...), \n",
    "    Guide.xlabel(\"Team\"))\n",
    "\n",
    "draw(PNG(6.6inch, 4inch), p)"
   ]
  }
 ],
 "metadata": {
  "kernelspec": {
   "display_name": "Julia 1.5.2",
   "language": "julia",
   "name": "julia-1.5"
  },
  "language_info": {
   "file_extension": ".jl",
   "mimetype": "application/julia",
   "name": "julia",
   "version": "1.5.2"
  }
 },
 "nbformat": 4,
 "nbformat_minor": 5
}
