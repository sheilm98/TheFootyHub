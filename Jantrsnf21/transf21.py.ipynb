{
 "cells": [
  {
   "cell_type": "code",
   "execution_count": 1,
   "id": "3387767c",
   "metadata": {},
   "outputs": [],
   "source": [
    "import pandas as pd\n",
    "import matplotlib.pyplot as plt\n",
    "import seaborn as sns"
   ]
  },
  {
   "cell_type": "code",
   "execution_count": 2,
   "id": "52b48d24",
   "metadata": {},
   "outputs": [
    {
     "data": {
      "text/html": [
       "<div>\n",
       "<style scoped>\n",
       "    .dataframe tbody tr th:only-of-type {\n",
       "        vertical-align: middle;\n",
       "    }\n",
       "\n",
       "    .dataframe tbody tr th {\n",
       "        vertical-align: top;\n",
       "    }\n",
       "\n",
       "    .dataframe thead th {\n",
       "        text-align: right;\n",
       "    }\n",
       "</style>\n",
       "<table border=\"1\" class=\"dataframe\">\n",
       "  <thead>\n",
       "    <tr style=\"text-align: right;\">\n",
       "      <th></th>\n",
       "      <th>Unnamed: 0</th>\n",
       "      <th>team_name</th>\n",
       "      <th>league</th>\n",
       "      <th>country</th>\n",
       "      <th>season</th>\n",
       "      <th>transfer_type</th>\n",
       "      <th>player_name</th>\n",
       "      <th>player_url</th>\n",
       "      <th>player_position</th>\n",
       "      <th>player_age</th>\n",
       "      <th>...</th>\n",
       "      <th>league_2</th>\n",
       "      <th>country_2</th>\n",
       "      <th>transfer_fee</th>\n",
       "      <th>is_loan</th>\n",
       "      <th>transfer_notes</th>\n",
       "      <th>window</th>\n",
       "      <th>in_squad</th>\n",
       "      <th>appearances</th>\n",
       "      <th>goals</th>\n",
       "      <th>minutes_played</th>\n",
       "    </tr>\n",
       "  </thead>\n",
       "  <tbody>\n",
       "    <tr>\n",
       "      <th>0</th>\n",
       "      <td>1</td>\n",
       "      <td>Manchester City</td>\n",
       "      <td>Premier League</td>\n",
       "      <td>England</td>\n",
       "      <td>2021</td>\n",
       "      <td>Arrivals</td>\n",
       "      <td>Julián Álvarez</td>\n",
       "      <td>https://www.transfermarkt.com/julian-alvarez/p...</td>\n",
       "      <td>Centre-Forward</td>\n",
       "      <td>22</td>\n",
       "      <td>...</td>\n",
       "      <td>Liga Profesional</td>\n",
       "      <td>Argentina</td>\n",
       "      <td>17000000.0</td>\n",
       "      <td>False</td>\n",
       "      <td>NaN</td>\n",
       "      <td>Winter</td>\n",
       "      <td>NaN</td>\n",
       "      <td>NaN</td>\n",
       "      <td>NaN</td>\n",
       "      <td>NaN</td>\n",
       "    </tr>\n",
       "    <tr>\n",
       "      <th>1</th>\n",
       "      <td>2</td>\n",
       "      <td>Manchester City</td>\n",
       "      <td>Premier League</td>\n",
       "      <td>England</td>\n",
       "      <td>2021</td>\n",
       "      <td>Arrivals</td>\n",
       "      <td>Philippe Sandler</td>\n",
       "      <td>https://www.transfermarkt.com/philippe-sandler...</td>\n",
       "      <td>Centre-Back</td>\n",
       "      <td>24</td>\n",
       "      <td>...</td>\n",
       "      <td>Ligue 1</td>\n",
       "      <td>France</td>\n",
       "      <td>NaN</td>\n",
       "      <td>True</td>\n",
       "      <td>End of loan Jan 25, 2022</td>\n",
       "      <td>Winter</td>\n",
       "      <td>1.0</td>\n",
       "      <td>0.0</td>\n",
       "      <td>0.0</td>\n",
       "      <td>0.0</td>\n",
       "    </tr>\n",
       "    <tr>\n",
       "      <th>2</th>\n",
       "      <td>3</td>\n",
       "      <td>Manchester City</td>\n",
       "      <td>Premier League</td>\n",
       "      <td>England</td>\n",
       "      <td>2021</td>\n",
       "      <td>Arrivals</td>\n",
       "      <td>Patrick Roberts</td>\n",
       "      <td>https://www.transfermarkt.com/patrick-roberts/...</td>\n",
       "      <td>Right Winger</td>\n",
       "      <td>24</td>\n",
       "      <td>...</td>\n",
       "      <td>Ligue 1</td>\n",
       "      <td>France</td>\n",
       "      <td>NaN</td>\n",
       "      <td>True</td>\n",
       "      <td>End of loan Jan 20, 2022</td>\n",
       "      <td>Winter</td>\n",
       "      <td>NaN</td>\n",
       "      <td>NaN</td>\n",
       "      <td>NaN</td>\n",
       "      <td>NaN</td>\n",
       "    </tr>\n",
       "    <tr>\n",
       "      <th>3</th>\n",
       "      <td>4</td>\n",
       "      <td>Manchester City</td>\n",
       "      <td>Premier League</td>\n",
       "      <td>England</td>\n",
       "      <td>2021</td>\n",
       "      <td>Arrivals</td>\n",
       "      <td>Luka Ilic</td>\n",
       "      <td>https://www.transfermarkt.com/luka-ilic/profil...</td>\n",
       "      <td>Attacking Midfield</td>\n",
       "      <td>22</td>\n",
       "      <td>...</td>\n",
       "      <td>Eredivisie</td>\n",
       "      <td>Netherlands</td>\n",
       "      <td>NaN</td>\n",
       "      <td>True</td>\n",
       "      <td>End of loan Jan 1, 2022</td>\n",
       "      <td>Winter</td>\n",
       "      <td>NaN</td>\n",
       "      <td>NaN</td>\n",
       "      <td>NaN</td>\n",
       "      <td>NaN</td>\n",
       "    </tr>\n",
       "    <tr>\n",
       "      <th>4</th>\n",
       "      <td>5</td>\n",
       "      <td>Manchester City</td>\n",
       "      <td>Premier League</td>\n",
       "      <td>England</td>\n",
       "      <td>2021</td>\n",
       "      <td>Departures</td>\n",
       "      <td>Ferran Torres</td>\n",
       "      <td>https://www.transfermarkt.com/ferran-torres/pr...</td>\n",
       "      <td>Right Winger</td>\n",
       "      <td>21</td>\n",
       "      <td>...</td>\n",
       "      <td>LaLiga</td>\n",
       "      <td>Spain</td>\n",
       "      <td>55000000.0</td>\n",
       "      <td>False</td>\n",
       "      <td>NaN</td>\n",
       "      <td>Winter</td>\n",
       "      <td>11.0</td>\n",
       "      <td>7.0</td>\n",
       "      <td>3.0</td>\n",
       "      <td>522.0</td>\n",
       "    </tr>\n",
       "  </tbody>\n",
       "</table>\n",
       "<p>5 rows × 22 columns</p>\n",
       "</div>"
      ],
      "text/plain": [
       "   Unnamed: 0        team_name          league  country  season transfer_type  \\\n",
       "0           1  Manchester City  Premier League  England    2021      Arrivals   \n",
       "1           2  Manchester City  Premier League  England    2021      Arrivals   \n",
       "2           3  Manchester City  Premier League  England    2021      Arrivals   \n",
       "3           4  Manchester City  Premier League  England    2021      Arrivals   \n",
       "4           5  Manchester City  Premier League  England    2021    Departures   \n",
       "\n",
       "        player_name                                         player_url  \\\n",
       "0    Julián Álvarez  https://www.transfermarkt.com/julian-alvarez/p...   \n",
       "1  Philippe Sandler  https://www.transfermarkt.com/philippe-sandler...   \n",
       "2   Patrick Roberts  https://www.transfermarkt.com/patrick-roberts/...   \n",
       "3         Luka Ilic  https://www.transfermarkt.com/luka-ilic/profil...   \n",
       "4     Ferran Torres  https://www.transfermarkt.com/ferran-torres/pr...   \n",
       "\n",
       "      player_position  player_age  ...          league_2    country_2  \\\n",
       "0      Centre-Forward          22  ...  Liga Profesional    Argentina   \n",
       "1         Centre-Back          24  ...           Ligue 1       France   \n",
       "2        Right Winger          24  ...           Ligue 1       France   \n",
       "3  Attacking Midfield          22  ...        Eredivisie  Netherlands   \n",
       "4        Right Winger          21  ...            LaLiga        Spain   \n",
       "\n",
       "  transfer_fee is_loan            transfer_notes  window in_squad appearances  \\\n",
       "0   17000000.0   False                       NaN  Winter      NaN         NaN   \n",
       "1          NaN    True  End of loan Jan 25, 2022  Winter      1.0         0.0   \n",
       "2          NaN    True  End of loan Jan 20, 2022  Winter      NaN         NaN   \n",
       "3          NaN    True   End of loan Jan 1, 2022  Winter      NaN         NaN   \n",
       "4   55000000.0   False                       NaN  Winter     11.0         7.0   \n",
       "\n",
       "   goals  minutes_played  \n",
       "0    NaN             NaN  \n",
       "1    0.0             0.0  \n",
       "2    NaN             NaN  \n",
       "3    NaN             NaN  \n",
       "4    3.0           522.0  \n",
       "\n",
       "[5 rows x 22 columns]"
      ]
     },
     "execution_count": 2,
     "metadata": {},
     "output_type": "execute_result"
    }
   ],
   "source": [
    "df = pd.read_csv(\"premTransfersWinter21.csv\")\n",
    "df.head()"
   ]
  },
  {
   "cell_type": "code",
   "execution_count": 3,
   "id": "c427a5fa",
   "metadata": {},
   "outputs": [],
   "source": [
    "df = df.drop(columns=['player_url','transfer_notes','in_squad','goals','minutes_played'])\n",
    "df = df.drop(columns=['player_position','player_age','player_nationality','season','country','league','league_2','window','appearances'])"
   ]
  },
  {
   "cell_type": "code",
   "execution_count": 4,
   "id": "ce99f1ba",
   "metadata": {},
   "outputs": [
    {
     "data": {
      "text/plain": [
       "array(['Manchester City', 'Liverpool FC', 'Chelsea FC',\n",
       "       'Manchester United', 'Tottenham Hotspur', 'Leicester City',\n",
       "       'Arsenal FC', 'Everton FC', 'Aston Villa', 'West Ham United',\n",
       "       'Wolverhampton Wanderers', 'Newcastle United', 'Leeds United',\n",
       "       'Southampton FC', 'Crystal Palace', 'Brighton & Hove Albion',\n",
       "       'Brentford FC', 'Norwich City', 'Watford FC', 'Burnley FC'],\n",
       "      dtype=object)"
      ]
     },
     "execution_count": 4,
     "metadata": {},
     "output_type": "execute_result"
    }
   ],
   "source": [
    "teams = df.team_name.unique()\n",
    "teams"
   ]
  },
  {
   "cell_type": "code",
   "execution_count": 5,
   "id": "552ed63c",
   "metadata": {},
   "outputs": [
    {
     "data": {
      "text/plain": [
       "20"
      ]
     },
     "execution_count": 5,
     "metadata": {},
     "output_type": "execute_result"
    }
   ],
   "source": [
    "len(teams)"
   ]
  },
  {
   "cell_type": "code",
   "execution_count": 6,
   "id": "0ad7184f",
   "metadata": {},
   "outputs": [
    {
     "data": {
      "text/html": [
       "<div>\n",
       "<style scoped>\n",
       "    .dataframe tbody tr th:only-of-type {\n",
       "        vertical-align: middle;\n",
       "    }\n",
       "\n",
       "    .dataframe tbody tr th {\n",
       "        vertical-align: top;\n",
       "    }\n",
       "\n",
       "    .dataframe thead th {\n",
       "        text-align: right;\n",
       "    }\n",
       "</style>\n",
       "<table border=\"1\" class=\"dataframe\">\n",
       "  <thead>\n",
       "    <tr style=\"text-align: right;\">\n",
       "      <th></th>\n",
       "      <th>Unnamed: 0</th>\n",
       "      <th>team_name</th>\n",
       "      <th>transfer_type</th>\n",
       "      <th>player_name</th>\n",
       "      <th>club_2</th>\n",
       "      <th>country_2</th>\n",
       "      <th>transfer_fee</th>\n",
       "      <th>is_loan</th>\n",
       "    </tr>\n",
       "  </thead>\n",
       "  <tbody>\n",
       "    <tr>\n",
       "      <th>0</th>\n",
       "      <td>1</td>\n",
       "      <td>Manchester City</td>\n",
       "      <td>Arrivals</td>\n",
       "      <td>Julián Álvarez</td>\n",
       "      <td>River Plate</td>\n",
       "      <td>Argentina</td>\n",
       "      <td>17000000.0</td>\n",
       "      <td>False</td>\n",
       "    </tr>\n",
       "    <tr>\n",
       "      <th>1</th>\n",
       "      <td>2</td>\n",
       "      <td>Manchester City</td>\n",
       "      <td>Arrivals</td>\n",
       "      <td>Philippe Sandler</td>\n",
       "      <td>Troyes</td>\n",
       "      <td>France</td>\n",
       "      <td>NaN</td>\n",
       "      <td>True</td>\n",
       "    </tr>\n",
       "    <tr>\n",
       "      <th>2</th>\n",
       "      <td>3</td>\n",
       "      <td>Manchester City</td>\n",
       "      <td>Arrivals</td>\n",
       "      <td>Patrick Roberts</td>\n",
       "      <td>Troyes</td>\n",
       "      <td>France</td>\n",
       "      <td>NaN</td>\n",
       "      <td>True</td>\n",
       "    </tr>\n",
       "    <tr>\n",
       "      <th>3</th>\n",
       "      <td>4</td>\n",
       "      <td>Manchester City</td>\n",
       "      <td>Arrivals</td>\n",
       "      <td>Luka Ilic</td>\n",
       "      <td>Twente FC</td>\n",
       "      <td>Netherlands</td>\n",
       "      <td>NaN</td>\n",
       "      <td>True</td>\n",
       "    </tr>\n",
       "    <tr>\n",
       "      <th>4</th>\n",
       "      <td>5</td>\n",
       "      <td>Manchester City</td>\n",
       "      <td>Departures</td>\n",
       "      <td>Ferran Torres</td>\n",
       "      <td>Barcelona</td>\n",
       "      <td>Spain</td>\n",
       "      <td>55000000.0</td>\n",
       "      <td>False</td>\n",
       "    </tr>\n",
       "    <tr>\n",
       "      <th>5</th>\n",
       "      <td>6</td>\n",
       "      <td>Manchester City</td>\n",
       "      <td>Departures</td>\n",
       "      <td>Philippe Sandler</td>\n",
       "      <td>Feyenoord</td>\n",
       "      <td>Netherlands</td>\n",
       "      <td>0.0</td>\n",
       "      <td>False</td>\n",
       "    </tr>\n",
       "    <tr>\n",
       "      <th>6</th>\n",
       "      <td>7</td>\n",
       "      <td>Manchester City</td>\n",
       "      <td>Departures</td>\n",
       "      <td>Patrick Roberts</td>\n",
       "      <td>Sunderland</td>\n",
       "      <td>England</td>\n",
       "      <td>0.0</td>\n",
       "      <td>False</td>\n",
       "    </tr>\n",
       "    <tr>\n",
       "      <th>7</th>\n",
       "      <td>8</td>\n",
       "      <td>Manchester City</td>\n",
       "      <td>Departures</td>\n",
       "      <td>Luka Ilic</td>\n",
       "      <td>Troyes</td>\n",
       "      <td>France</td>\n",
       "      <td>NaN</td>\n",
       "      <td>False</td>\n",
       "    </tr>\n",
       "    <tr>\n",
       "      <th>8</th>\n",
       "      <td>9</td>\n",
       "      <td>Manchester City</td>\n",
       "      <td>Departures</td>\n",
       "      <td>Julián Álvarez</td>\n",
       "      <td>River Plate</td>\n",
       "      <td>Argentina</td>\n",
       "      <td>NaN</td>\n",
       "      <td>True</td>\n",
       "    </tr>\n",
       "  </tbody>\n",
       "</table>\n",
       "</div>"
      ],
      "text/plain": [
       "   Unnamed: 0        team_name transfer_type       player_name       club_2  \\\n",
       "0           1  Manchester City      Arrivals    Julián Álvarez  River Plate   \n",
       "1           2  Manchester City      Arrivals  Philippe Sandler       Troyes   \n",
       "2           3  Manchester City      Arrivals   Patrick Roberts       Troyes   \n",
       "3           4  Manchester City      Arrivals         Luka Ilic    Twente FC   \n",
       "4           5  Manchester City    Departures     Ferran Torres    Barcelona   \n",
       "5           6  Manchester City    Departures  Philippe Sandler    Feyenoord   \n",
       "6           7  Manchester City    Departures   Patrick Roberts   Sunderland   \n",
       "7           8  Manchester City    Departures         Luka Ilic       Troyes   \n",
       "8           9  Manchester City    Departures    Julián Álvarez  River Plate   \n",
       "\n",
       "     country_2  transfer_fee  is_loan  \n",
       "0    Argentina    17000000.0    False  \n",
       "1       France           NaN     True  \n",
       "2       France           NaN     True  \n",
       "3  Netherlands           NaN     True  \n",
       "4        Spain    55000000.0    False  \n",
       "5  Netherlands           0.0    False  \n",
       "6      England           0.0    False  \n",
       "7       France           NaN    False  \n",
       "8    Argentina           NaN     True  "
      ]
     },
     "execution_count": 6,
     "metadata": {},
     "output_type": "execute_result"
    }
   ],
   "source": [
    "dfmanc = df.loc[df['team_name']=='Manchester City']\n",
    "dfmanc"
   ]
  },
  {
   "cell_type": "code",
   "execution_count": 7,
   "id": "df3b4502",
   "metadata": {},
   "outputs": [
    {
     "data": {
      "text/html": [
       "<div>\n",
       "<style scoped>\n",
       "    .dataframe tbody tr th:only-of-type {\n",
       "        vertical-align: middle;\n",
       "    }\n",
       "\n",
       "    .dataframe tbody tr th {\n",
       "        vertical-align: top;\n",
       "    }\n",
       "\n",
       "    .dataframe thead th {\n",
       "        text-align: right;\n",
       "    }\n",
       "</style>\n",
       "<table border=\"1\" class=\"dataframe\">\n",
       "  <thead>\n",
       "    <tr style=\"text-align: right;\">\n",
       "      <th></th>\n",
       "      <th>Unnamed: 0</th>\n",
       "      <th>team_name</th>\n",
       "      <th>transfer_type</th>\n",
       "      <th>player_name</th>\n",
       "      <th>club_2</th>\n",
       "      <th>country_2</th>\n",
       "      <th>transfer_fee</th>\n",
       "      <th>is_loan</th>\n",
       "    </tr>\n",
       "  </thead>\n",
       "  <tbody>\n",
       "    <tr>\n",
       "      <th>0</th>\n",
       "      <td>1</td>\n",
       "      <td>Manchester City</td>\n",
       "      <td>Arrivals</td>\n",
       "      <td>Julián Álvarez</td>\n",
       "      <td>River Plate</td>\n",
       "      <td>Argentina</td>\n",
       "      <td>17000000.0</td>\n",
       "      <td>False</td>\n",
       "    </tr>\n",
       "    <tr>\n",
       "      <th>4</th>\n",
       "      <td>5</td>\n",
       "      <td>Manchester City</td>\n",
       "      <td>Departures</td>\n",
       "      <td>Ferran Torres</td>\n",
       "      <td>Barcelona</td>\n",
       "      <td>Spain</td>\n",
       "      <td>55000000.0</td>\n",
       "      <td>False</td>\n",
       "    </tr>\n",
       "    <tr>\n",
       "      <th>5</th>\n",
       "      <td>6</td>\n",
       "      <td>Manchester City</td>\n",
       "      <td>Departures</td>\n",
       "      <td>Philippe Sandler</td>\n",
       "      <td>Feyenoord</td>\n",
       "      <td>Netherlands</td>\n",
       "      <td>0.0</td>\n",
       "      <td>False</td>\n",
       "    </tr>\n",
       "    <tr>\n",
       "      <th>6</th>\n",
       "      <td>7</td>\n",
       "      <td>Manchester City</td>\n",
       "      <td>Departures</td>\n",
       "      <td>Patrick Roberts</td>\n",
       "      <td>Sunderland</td>\n",
       "      <td>England</td>\n",
       "      <td>0.0</td>\n",
       "      <td>False</td>\n",
       "    </tr>\n",
       "  </tbody>\n",
       "</table>\n",
       "</div>"
      ],
      "text/plain": [
       "   Unnamed: 0        team_name transfer_type       player_name       club_2  \\\n",
       "0           1  Manchester City      Arrivals    Julián Álvarez  River Plate   \n",
       "4           5  Manchester City    Departures     Ferran Torres    Barcelona   \n",
       "5           6  Manchester City    Departures  Philippe Sandler    Feyenoord   \n",
       "6           7  Manchester City    Departures   Patrick Roberts   Sunderland   \n",
       "\n",
       "     country_2  transfer_fee  is_loan  \n",
       "0    Argentina    17000000.0    False  \n",
       "4        Spain    55000000.0    False  \n",
       "5  Netherlands           0.0    False  \n",
       "6      England           0.0    False  "
      ]
     },
     "execution_count": 7,
     "metadata": {},
     "output_type": "execute_result"
    }
   ],
   "source": [
    "# for index, row in dfmanc.iterrows():\n",
    "#     if row['transfer_fee'] == 'NaN':\n",
    "#         dfmanc[row]['transfer_fee'] = '0'\n",
    "# #         print(dfmanc[index]['transfer_fee'])\n",
    "dfmanc = dfmanc.dropna()\n",
    "dfmanc"
   ]
  },
  {
   "cell_type": "code",
   "execution_count": 8,
   "id": "4dfaace5",
   "metadata": {},
   "outputs": [],
   "source": [
    "mancArrivals = []\n",
    "mancArrivalsNm = []\n",
    "for index, row in dfmanc.iterrows():\n",
    "    if row['transfer_type'] == 'Arrivals' and row['transfer_fee'] > 0:\n",
    "        mancArrivals.append(row['transfer_fee'])\n",
    "        mancArrivalsNm.append(row['player_name'])\n"
   ]
  },
  {
   "cell_type": "code",
   "execution_count": 9,
   "id": "768917fb",
   "metadata": {},
   "outputs": [
    {
     "data": {
      "text/plain": [
       "[17000000.0]"
      ]
     },
     "execution_count": 9,
     "metadata": {},
     "output_type": "execute_result"
    }
   ],
   "source": [
    "mancArrivals"
   ]
  },
  {
   "cell_type": "code",
   "execution_count": 10,
   "id": "85a01623",
   "metadata": {},
   "outputs": [
    {
     "data": {
      "text/plain": [
       "[55000000.0]"
      ]
     },
     "execution_count": 10,
     "metadata": {},
     "output_type": "execute_result"
    }
   ],
   "source": [
    "mancDept = []\n",
    "mancDeptNm = []\n",
    "for index, row in dfmanc.iterrows():\n",
    "    if row['transfer_type'] == 'Departures' and row['transfer_fee'] > 0:\n",
    "        mancDept.append(row['transfer_fee'])\n",
    "        mancDeptNm.append(row['player_name'])\n",
    "mancDept"
   ]
  },
  {
   "cell_type": "code",
   "execution_count": 11,
   "id": "5adc6c68",
   "metadata": {},
   "outputs": [
    {
     "name": "stdout",
     "output_type": "stream",
     "text": [
      "38000000.0\n"
     ]
    },
    {
     "data": {
      "image/png": "[encoded data removed]",
      "text/plain": [
       "<Figure size 432x288 with 1 Axes>"
      ]
     },
     "metadata": {
      "needs_background": "light"
     },
     "output_type": "display_data"
    }
   ],
   "source": [
    "fig = plt.figure()\n",
    "ax = fig.add_axes([0,0,1,1])\n",
    "ax.bar(mancArrivalsNm,mancArrivals)\n",
    "ax.bar(mancDeptNm,mancDept)\n",
    "mancDeptsum = sum(mancDept)\n",
    "mancArrsum = sum(mancArrivals)\n",
    "mancNet = mancDeptsum - mancArrsum \n",
    "print(mancNet)\n",
    "plt.show()"
   ]
  },
  {
   "cell_type": "code",
   "execution_count": 12,
   "id": "0a6b2eb0",
   "metadata": {},
   "outputs": [],
   "source": [
    "arrivals = []\n",
    "arrnames = []\n",
    "arrteam = []\n",
    "for index, row in df.iterrows():\n",
    "    if row['transfer_type'] == 'Arrivals' and row['transfer_fee'] > 0:\n",
    "        arrivals.append(row['transfer_fee'])\n",
    "        arrnames.append(row['player_name'])\n",
    "        arrteam.append(row['team_name'])\n"
   ]
  },
  {
   "cell_type": "code",
   "execution_count": 13,
   "id": "592c188d",
   "metadata": {},
   "outputs": [],
   "source": [
    "dept = []\n",
    "deptnames = []\n",
    "deptteam = []\n",
    "for index, row in df.iterrows():\n",
    "    if row['transfer_type'] == 'Departures' and row['transfer_fee'] > 0:\n",
    "        dept.append(row['transfer_fee'])\n",
    "        deptnames.append(row['player_name'])\n",
    "        deptteam.append(row['team_name'])\n"
   ]
  },
  {
   "cell_type": "code",
   "execution_count": 14,
   "id": "b456b45b",
   "metadata": {},
   "outputs": [
    {
     "data": {
      "text/plain": [
       "['Manchester City',\n",
       " 'Manchester United',\n",
       " 'Tottenham Hotspur',\n",
       " 'Arsenal FC',\n",
       " 'Everton FC',\n",
       " 'West Ham United',\n",
       " 'Brighton & Hove Albion',\n",
       " 'Burnley FC']"
      ]
     },
     "execution_count": 14,
     "metadata": {},
     "output_type": "execute_result"
    }
   ],
   "source": [
    "deptteam"
   ]
  },
  {
   "cell_type": "code",
   "execution_count": 15,
   "id": "ce58a329",
   "metadata": {},
   "outputs": [],
   "source": [
    "teamlabels = arrteam + deptteam\n",
    "deptlabel = list(set(arrteam) - set(deptteam))\n",
    "# deptlabel"
   ]
  },
  {
   "cell_type": "code",
   "execution_count": 16,
   "id": "8ca23db3",
   "metadata": {},
   "outputs": [],
   "source": [
    "import numpy as np\n",
    "from matplotlib.pyplot import figure"
   ]
  },
  {
   "cell_type": "code",
   "execution_count": 17,
   "id": "fe441a29",
   "metadata": {
    "scrolled": false
   },
   "outputs": [
    {
     "data": {
      "text/plain": [
       "<matplotlib.legend.Legend at 0x21054b26648>"
      ]
     },
     "execution_count": 17,
     "metadata": {},
     "output_type": "execute_result"
    },
    {
     "data": {
      "text/plain": [
       "<Figure size 432x288 with 0 Axes>"
      ]
     },
     "metadata": {},
     "output_type": "display_data"
    },
    {
     "data": {
      "image/png": "[encoded data removed]",
      "text/plain": [
       "<Figure size 1600x960 with 1 Axes>"
      ]
     },
     "metadata": {},
     "output_type": "display_data"
    }
   ],
   "source": [
    "fig = plt.figure()\n",
    "# ax = fig.add_axes([0,0,1,1])\n",
    "figure(figsize=(20, 12), dpi=80,facecolor='#8c8c8c')\n",
    "\n",
    "ax = plt.axes()\n",
    "ax.set_facecolor('#1a1a1a')\n",
    "\n",
    "plt.xticks(rotation=90,color='white')\n",
    "plt.yticks(color='white')\n",
    "# ax = plt.subplots()\n",
    "\n",
    "p1 = plt.bar(arrnames,arrivals,color='#009933',label='Arrivals')\n",
    "\n",
    "p2 = plt.bar(deptnames,dept,color=\"#e60000\",label='Departures')\n",
    "\n",
    "# p3 = p1+p2\n",
    "# plt.bar_label(p4,topspnfmt,color=\"white\")\n",
    "\n",
    "plt.title(\"Premier League In's & Out's\",color='white')\n",
    "# ax.set_title(\"Premier League In's & Out's\")\n",
    "\n",
    "# plt.bar_label(p1,teamlabels,padding=0,rotation=90)\n",
    "# plt.bar_label(p1,teamlabels,rotation=90)\n",
    "# plt.bar_label(p2,teamlabels,rotation=90)\n",
    "plt.ylabel('x10 Million £')\n",
    "plt.legend()\n",
    "\n"
   ]
  },
  {
   "cell_type": "code",
   "execution_count": null,
   "id": "085e362b",
   "metadata": {},
   "outputs": [],
   "source": []
  },
  {
   "cell_type": "code",
   "execution_count": 18,
   "id": "8a1b0aec",
   "metadata": {},
   "outputs": [
    {
     "data": {
      "text/plain": [
       "'Manchester City'"
      ]
     },
     "execution_count": 18,
     "metadata": {},
     "output_type": "execute_result"
    }
   ],
   "source": [
    "def most_frequent(List):\n",
    "    counter = 0\n",
    "    num = List[0]\n",
    "     \n",
    "    for i in List:\n",
    "        curr_frequency = List.count(i)\n",
    "        if(curr_frequency> counter):\n",
    "            counter = curr_frequency\n",
    "            num = i\n",
    " \n",
    "    return num\n",
    "\n",
    "most_frequent(arrteam)\n",
    "most_frequent(deptteam)\n"
   ]
  },
  {
   "cell_type": "code",
   "execution_count": 55,
   "id": "81c020be",
   "metadata": {},
   "outputs": [
    {
     "data": {
      "text/plain": [
       "6"
      ]
     },
     "execution_count": 55,
     "metadata": {},
     "output_type": "execute_result"
    }
   ],
   "source": [
    "arrteam.count('Newcastle United')\n",
    "# deptteam.count('Arsenal FC')\n",
    "arrteam.count('Watford FC')\n",
    "# arrteam.count('Burnley FC')"
   ]
  },
  {
   "cell_type": "code",
   "execution_count": 20,
   "id": "ad746097",
   "metadata": {},
   "outputs": [],
   "source": [
    "newcastS = []\n",
    "for index, row in df.iterrows():\n",
    "    if row['transfer_type'] == 'Arrivals' and row['transfer_fee'] > 0 and row['team_name'] == 'Newcastle United':\n",
    "        newcastS.append(row['transfer_fee'])"
   ]
  },
  {
   "cell_type": "code",
   "execution_count": 21,
   "id": "0fb9c0b2",
   "metadata": {},
   "outputs": [],
   "source": [
    "topspend = []\n",
    "topspend.append(sum(newcastS))"
   ]
  },
  {
   "cell_type": "code",
   "execution_count": 22,
   "id": "c6bed538",
   "metadata": {},
   "outputs": [],
   "source": [
    "liverpool = []\n",
    "for index, row in df.iterrows():\n",
    "    if row['transfer_type'] == 'Arrivals' and row['transfer_fee'] > 0 and row['team_name'] == 'Liverpool FC':\n",
    "        liverpool.append(row['transfer_fee'])\n",
    "        "
   ]
  },
  {
   "cell_type": "code",
   "execution_count": 23,
   "id": "e43ce238",
   "metadata": {},
   "outputs": [],
   "source": [
    "topspend.append(sum(liverpool))"
   ]
  },
  {
   "cell_type": "code",
   "execution_count": 24,
   "id": "b464b216",
   "metadata": {},
   "outputs": [],
   "source": [
    "manc = []\n",
    "for index, row in df.iterrows():\n",
    "    if row['transfer_type'] == 'Arrivals' and row['transfer_fee'] > 0 and row['team_name'] == 'Manchester City':\n",
    "        manc.append(row['transfer_fee'])"
   ]
  },
  {
   "cell_type": "code",
   "execution_count": 25,
   "id": "1dddd73b",
   "metadata": {},
   "outputs": [],
   "source": [
    "topspend.append(sum(manc))"
   ]
  },
  {
   "cell_type": "code",
   "execution_count": 26,
   "id": "ac656b61",
   "metadata": {},
   "outputs": [
    {
     "data": {
      "text/plain": [
       "[102100000.0, 45000000.0, 17000000.0]"
      ]
     },
     "execution_count": 26,
     "metadata": {},
     "output_type": "execute_result"
    }
   ],
   "source": [
    "topspend"
   ]
  },
  {
   "cell_type": "code",
   "execution_count": 27,
   "id": "4b8e2c11",
   "metadata": {},
   "outputs": [],
   "source": [
    "watf = []\n",
    "for index, row in df.iterrows():\n",
    "    if row['transfer_type'] == 'Arrivals' and row['transfer_fee'] > 0 and row['team_name'] == 'Watford FC':\n",
    "        watf.append(row['transfer_fee'])"
   ]
  },
  {
   "cell_type": "code",
   "execution_count": 28,
   "id": "3a2a6bae",
   "metadata": {},
   "outputs": [],
   "source": [
    "topspend.append(sum(watf))"
   ]
  },
  {
   "cell_type": "code",
   "execution_count": 29,
   "id": "395d081c",
   "metadata": {},
   "outputs": [],
   "source": [
    "spurs = []\n",
    "for index, row in df.iterrows():\n",
    "    if row['transfer_type'] == 'Arrivals' and row['transfer_fee'] > 0 and row['team_name'] == 'Tottenham Hotspur':\n",
    "        spurs.append(row['transfer_fee'])"
   ]
  },
  {
   "cell_type": "code",
   "execution_count": 30,
   "id": "fe543914",
   "metadata": {},
   "outputs": [],
   "source": [
    "topspend.append(sum(spurs))"
   ]
  },
  {
   "cell_type": "code",
   "execution_count": 31,
   "id": "4677aa4b",
   "metadata": {},
   "outputs": [],
   "source": [
    "topspend\n",
    "topspendnames = ['NUFC',  'Livpool', 'Manc City', 'Watford','spurs']"
   ]
  },
  {
   "cell_type": "code",
   "execution_count": 32,
   "id": "671b2746",
   "metadata": {},
   "outputs": [],
   "source": [
    "def human_format(num):\n",
    "    magnitude = 0\n",
    "    while abs(num) >= 1000:\n",
    "        magnitude += 1\n",
    "        num /= 1000.0\n",
    "    # add more suffixes if you need them\n",
    "    return '%.2f%s' % (num, ['', 'K', 'M', 'G', 'T', 'P'][magnitude])"
   ]
  },
  {
   "cell_type": "code",
   "execution_count": 33,
   "id": "bd907025",
   "metadata": {},
   "outputs": [
    {
     "data": {
      "text/plain": [
       "['102.10M', '45.00M', '17.00M', '24.70M', '29.00M']"
      ]
     },
     "execution_count": 33,
     "metadata": {},
     "output_type": "execute_result"
    }
   ],
   "source": [
    "topspnfmt = []\n",
    "# for i in range(topspend):\n",
    "#     topspnfmt.append(human_format(topspend[i]))\n",
    "topspnfmt.append(human_format(topspend[0]))\n",
    "topspnfmt.append(human_format(topspend[1]))\n",
    "topspnfmt.append(human_format(topspend[2]))\n",
    "topspnfmt.append(human_format(topspend[3]))\n",
    "topspnfmt.append(human_format(topspend[4]))\n",
    "topspnfmt"
   ]
  },
  {
   "cell_type": "code",
   "execution_count": 34,
   "id": "77a63c20",
   "metadata": {},
   "outputs": [
    {
     "ename": "AttributeError",
     "evalue": "module 'matplotlib.pyplot' has no attribute 'yaxis'",
     "output_type": "error",
     "traceback": [
      "\u001b[1;31m---------------------------------------------------------------------------\u001b[0m",
      "\u001b[1;31mAttributeError\u001b[0m                            Traceback (most recent call last)",
      "\u001b[1;32m~\\AppData\\Local\\Temp/ipykernel_23528/535307842.py\u001b[0m in \u001b[0;36m<module>\u001b[1;34m\u001b[0m\n\u001b[0;32m     10\u001b[0m \u001b[1;31m# plt.facecolor('grey')\u001b[0m\u001b[1;33m\u001b[0m\u001b[1;33m\u001b[0m\u001b[1;33m\u001b[0m\u001b[0m\n\u001b[0;32m     11\u001b[0m \u001b[0mplt\u001b[0m\u001b[1;33m.\u001b[0m\u001b[0mbar_label\u001b[0m\u001b[1;33m(\u001b[0m\u001b[0mp4\u001b[0m\u001b[1;33m,\u001b[0m\u001b[0mtopspnfmt\u001b[0m\u001b[1;33m,\u001b[0m\u001b[0mcolor\u001b[0m\u001b[1;33m=\u001b[0m\u001b[1;34m\"white\"\u001b[0m\u001b[1;33m)\u001b[0m\u001b[1;33m\u001b[0m\u001b[1;33m\u001b[0m\u001b[0m\n\u001b[1;32m---> 12\u001b[1;33m \u001b[0mplt\u001b[0m\u001b[1;33m.\u001b[0m\u001b[0myaxis\u001b[0m\u001b[1;33m(\u001b[0m\u001b[1;34m'off'\u001b[0m\u001b[1;33m)\u001b[0m\u001b[1;33m\u001b[0m\u001b[1;33m\u001b[0m\u001b[0m\n\u001b[0m",
      "\u001b[1;31mAttributeError\u001b[0m: module 'matplotlib.pyplot' has no attribute 'yaxis'"
     ]
    },
    {
     "data": {
      "image/png": "[encoded data removed]",
      "text/plain": [
       "<Figure size 432x288 with 1 Axes>"
      ]
     },
     "metadata": {},
     "output_type": "display_data"
    }
   ],
   "source": [
    "# drwng.set_facecolor('black')\n",
    "plt.figure(facecolor='#8c8c8c')\n",
    "ax = plt.axes()\n",
    "ax.set_facecolor('#1a1a1a')\n",
    "\n",
    "p4 = plt.bar(topspendnames,topspend,color='#ff6666')\n",
    "\n",
    "ax.get_yaxis().set_visible(False)\n",
    "\n",
    "# plt.facecolor('grey')\n",
    "plt.bar_label(p4,topspnfmt,color=\"white\")\n",
    "plt.yaxis('off')"
   ]
  },
  {
   "cell_type": "code",
   "execution_count": 38,
   "id": "461fd053",
   "metadata": {},
   "outputs": [
    {
     "data": {
      "text/plain": [
       "'335.42M'"
      ]
     },
     "execution_count": 38,
     "metadata": {},
     "output_type": "execute_result"
    }
   ],
   "source": [
    "totalarrivals = sum(arrivals)\n",
    "human_format(totalarrivals)"
   ]
  },
  {
   "cell_type": "code",
   "execution_count": 40,
   "id": "b15e01db",
   "metadata": {},
   "outputs": [
    {
     "data": {
      "text/plain": [
       "'133.52M'"
      ]
     },
     "execution_count": 40,
     "metadata": {},
     "output_type": "execute_result"
    }
   ],
   "source": [
    "totaldept = sum(dept)\n",
    "human_format(totaldept)"
   ]
  },
  {
   "cell_type": "code",
   "execution_count": 43,
   "id": "6705810e",
   "metadata": {},
   "outputs": [
    {
     "data": {
      "text/plain": [
       "'201.90M'"
      ]
     },
     "execution_count": 43,
     "metadata": {},
     "output_type": "execute_result"
    }
   ],
   "source": [
    "totalNet = totalarrivals - totaldept\n",
    "human_format(totalNet)"
   ]
  },
  {
   "cell_type": "code",
   "execution_count": 53,
   "id": "5f8cd90b",
   "metadata": {},
   "outputs": [
    {
     "data": {
      "text/plain": [
       "1"
      ]
     },
     "execution_count": 53,
     "metadata": {},
     "output_type": "execute_result"
    }
   ],
   "source": [
    "deptteam.count('Manchester City')"
   ]
  },
  {
   "cell_type": "code",
   "execution_count": null,
   "id": "54248cc9",
   "metadata": {},
   "outputs": [],
   "source": []
  }
 ],
 "metadata": {
  "kernelspec": {
   "display_name": "Python 3",
   "language": "python",
   "name": "python3"
  },
  "language_info": {
   "codemirror_mode": {
    "name": "ipython",
    "version": 3
   },
   "file_extension": ".py",
   "mimetype": "text/x-python",
   "name": "python",
   "nbconvert_exporter": "python",
   "pygments_lexer": "ipython3",
   "version": "3.7.11"
  }
 },
 "nbformat": 4,
 "nbformat_minor": 5
}
